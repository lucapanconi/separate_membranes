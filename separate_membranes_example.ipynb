{
 "cells": [
  {
   "cell_type": "markdown",
   "id": "0e760c90",
   "metadata": {},
   "source": [
    "### Membrane Separator Example Notebook\n",
    "Loads an example data set and runs membrane separation code."
   ]
  },
  {
   "cell_type": "code",
   "execution_count": 1,
   "id": "fcde2646",
   "metadata": {},
   "outputs": [],
   "source": [
    "# Import membrane separator function\n",
    "from separate_membranes import separate_membranes"
   ]
  },
  {
   "cell_type": "code",
   "execution_count": 2,
   "id": "03b1ce4c",
   "metadata": {},
   "outputs": [],
   "source": [
    "# Specify data directory - this must contain CSV files with columns mx, my, mz:\n",
    "data_dir = \"path/to/your/data\"\n",
    "data_dir = '/Users/lucapanconi/Documents/Projects/KATPaseMINFLUX/MINFLUX Data/ATP1A1/CSV Files'"
   ]
  },
  {
   "cell_type": "code",
   "execution_count": 3,
   "id": "6f69dc57",
   "metadata": {},
   "outputs": [
    {
     "name": "stdout",
     "output_type": "stream",
     "text": [
      "Results will be saved to: results/20251022_164428\n",
      "Plots will be saved to: plots/20251022_164428\n",
      "Found 5 CSV file(s) in /Users/lucapanconi/Documents/Projects/KATPaseMINFLUX/MINFLUX Data/ATP1A1/CSV Files\n",
      "\n",
      "Processing: 250626-R1_ATP1A1_3D_0.5nM_Aberrior660_Exc9_stats.csv\n",
      "  ✓ Saved: 250626-R1_ATP1A1_3D_0.5nM_Aberrior660_Exc9_stats_labeled.csv, 250626-R1_ATP1A1_3D_0.5nM_Aberrior660_Exc9_stats_metrics.json\n",
      "  Points: 2916 total, 2829 kept, 87 outliers\n",
      "  Upper: 1321, Lower: 1508\n",
      "  RMSE (norm): top=0.3311, bottom=0.3535\n",
      "\n",
      "Processing: 250626-R2_ATP1A1_3D_0.5nM_Aberrior660_Exc11_stats.csv\n",
      "  ✓ Saved: 250626-R2_ATP1A1_3D_0.5nM_Aberrior660_Exc11_stats_labeled.csv, 250626-R2_ATP1A1_3D_0.5nM_Aberrior660_Exc11_stats_metrics.json\n",
      "  Points: 811 total, 794 kept, 17 outliers\n",
      "  Upper: 457, Lower: 337\n",
      "  RMSE (norm): top=0.3568, bottom=0.2570\n",
      "\n",
      "Processing: 250909-R2_ATP1A1_3D_0.5nM_Aberrior660_Exc8_stats.csv\n",
      "  ✓ Saved: 250909-R2_ATP1A1_3D_0.5nM_Aberrior660_Exc8_stats_labeled.csv, 250909-R2_ATP1A1_3D_0.5nM_Aberrior660_Exc8_stats_metrics.json\n",
      "  Points: 2444 total, 2395 kept, 49 outliers\n",
      "  Upper: 1130, Lower: 1265\n",
      "  RMSE (norm): top=0.2468, bottom=0.2891\n",
      "\n",
      "Processing: 250603-R1_ATP1A1_3D_0.5nM_Aberrior660_Exc8_stats.csv\n",
      "  ✓ Saved: 250603-R1_ATP1A1_3D_0.5nM_Aberrior660_Exc8_stats_labeled.csv, 250603-R1_ATP1A1_3D_0.5nM_Aberrior660_Exc8_stats_metrics.json\n",
      "  Points: 2139 total, 2064 kept, 75 outliers\n",
      "  Upper: 894, Lower: 1170\n",
      "  RMSE (norm): top=0.4002, bottom=0.3171\n",
      "\n",
      "Processing: 250701-R2_ATP1A1_3D_0.5nM_Aberrior660_Exc8_stats.csv\n",
      "  ✓ Saved: 250701-R2_ATP1A1_3D_0.5nM_Aberrior660_Exc8_stats_labeled.csv, 250701-R2_ATP1A1_3D_0.5nM_Aberrior660_Exc8_stats_metrics.json\n",
      "  Points: 2314 total, 2236 kept, 78 outliers\n",
      "  Upper: 843, Lower: 1393\n",
      "  RMSE (norm): top=0.5094, bottom=0.4332\n",
      "\n",
      "============================================================\n",
      "PROCESSING COMPLETE\n",
      "============================================================\n",
      "Files processed: 5\n",
      "Total points: 10624\n",
      "Upper membrane: 4645\n",
      "Lower membrane: 5673\n",
      "Outliers: 306\n",
      "Results saved to: results/20251022_164428\n",
      "Plots saved to: plots/20251022_164428\n"
     ]
    }
   ],
   "source": [
    "# Run membrane separator\n",
    "results = separate_membranes(data_dir)"
   ]
  },
  {
   "cell_type": "code",
   "execution_count": null,
   "id": "2332db11",
   "metadata": {},
   "outputs": [],
   "source": []
  }
 ],
 "metadata": {
  "kernelspec": {
   "display_name": "genenv",
   "language": "python",
   "name": "python3"
  },
  "language_info": {
   "codemirror_mode": {
    "name": "ipython",
    "version": 3
   },
   "file_extension": ".py",
   "mimetype": "text/x-python",
   "name": "python",
   "nbconvert_exporter": "python",
   "pygments_lexer": "ipython3",
   "version": "3.13.2"
  }
 },
 "nbformat": 4,
 "nbformat_minor": 5
}
