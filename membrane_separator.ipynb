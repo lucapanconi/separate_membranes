{
 "cells": [
  {
   "cell_type": "markdown",
   "id": "0e760c90",
   "metadata": {},
   "source": [
    "### Membrane Separator Example Notebook\n",
    "Loads an example data set and runs membrane separation code."
   ]
  },
  {
   "cell_type": "code",
   "execution_count": null,
   "id": "fcde2646",
   "metadata": {},
   "outputs": [],
   "source": [
    "# Import membrane separator function\n",
    "from membrane_separator import separate_membranes"
   ]
  },
  {
   "cell_type": "code",
   "execution_count": null,
   "id": "03b1ce4c",
   "metadata": {},
   "outputs": [],
   "source": [
    "# Specify data directory - this must contain CSV files with columns mx, my, mz:\n",
    "data_dir = \"path/to/your/data\""
   ]
  },
  {
   "cell_type": "code",
   "execution_count": null,
   "id": "6f69dc57",
   "metadata": {},
   "outputs": [],
   "source": [
    "# Run membrane separator\n",
    "results = separate_membranes(data_dir)"
   ]
  }
 ],
 "metadata": {
  "kernelspec": {
   "display_name": "genenv",
   "language": "python",
   "name": "python3"
  },
  "language_info": {
   "codemirror_mode": {
    "name": "ipython",
    "version": 3
   },
   "file_extension": ".py",
   "mimetype": "text/x-python",
   "name": "python",
   "nbconvert_exporter": "python",
   "pygments_lexer": "ipython3",
   "version": "3.13.2"
  }
 },
 "nbformat": 4,
 "nbformat_minor": 5
}
